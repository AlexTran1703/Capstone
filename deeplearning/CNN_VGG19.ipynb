{
 "cells": [
  {
   "cell_type": "code",
   "execution_count": 25,
   "metadata": {},
   "outputs": [],
   "source": [
    "#THIS IS USED FOR TRAINING ON COMPUTER\n",
    "import numpy as np # linear algebra\n",
    "import pandas as pd # data processing, CSV file I/O (e.g. pd.read_csv)\n",
    "import matplotlib.pyplot as plt\n",
    "path_test = 'D:/OneDrive - VietNam National University - HCM INTERNATIONAL UNIVERSITY/Code/CapstoneCode/Data/mitbih_test.csv'\n",
    "path_train = 'D:/OneDrive - VietNam National University - HCM INTERNATIONAL UNIVERSITY/Code/CapstoneCode/Data/mitbih_train.csv'\n",
    "mit_test = pd.read_csv(path_test,header=None)\n",
    "mit_train = pd.read_csv(path_train, header=None)"
   ]
  },
  {
   "cell_type": "code",
   "execution_count": 26,
   "metadata": {},
   "outputs": [],
   "source": [
    "#Replace columns 187 with Class\n",
    "mit_test.rename(columns={187:\"Class\"}, inplace=True)\n",
    "mit_train.rename(columns={187:\"Class\"}, inplace=True)"
   ]
  },
  {
   "cell_type": "code",
   "execution_count": 27,
   "metadata": {},
   "outputs": [],
   "source": [
    "# Setting Dictionary to define the type of Heartbeat\n",
    "# N: normal\n",
    "#S: Supraventricular premature beat\n",
    "#P: Premature ventricular contraction\n",
    "#F: Fusion of ventricular and normal beat\n",
    "#U: Unclassifiable beat\n",
    "MIT_Outcome = {0. : 'N',\n",
    "               1. : 'S',\n",
    "               2. : 'P',\n",
    "               3. : 'F',\n",
    "               4. : 'U'}"
   ]
  },
  {
   "cell_type": "code",
   "execution_count": 28,
   "metadata": {},
   "outputs": [],
   "source": [
    "from sklearn.model_selection import train_test_split\n",
    "from sklearn.preprocessing import normalize\n",
    "from sklearn.metrics import classification_report, plot_confusion_matrix, confusion_matrix,  ConfusionMatrixDisplay\n",
    "from sklearn.utils import resample\n",
    "\n",
    "import tensorflow as tf\n",
    "import tensorflow_addons as tfa\n",
    "from tensorflow import keras\n",
    "from tensorflow.keras.layers import Dense, Conv1D, MaxPool1D, Flatten, Dropout, InputLayer, LSTM, GRU, BatchNormalization, Bidirectional, Concatenate\n",
    "from tensorflow.keras.models import Model\n",
    "from tensorflow.keras.callbacks import EarlyStopping, ModelCheckpoint\n",
    "from tensorflow.keras.preprocessing import sequence\n",
    "from tensorflow.keras.optimizers import SGD, RMSprop\n",
    "from tensorflow.keras.utils import to_categorical"
   ]
  },
  {
   "cell_type": "code",
   "execution_count": 29,
   "metadata": {},
   "outputs": [
    {
     "name": "stdout",
     "output_type": "stream",
     "text": [
      "(105471, 188)\n",
      "0.0    72471\n",
      "3.0    10000\n",
      "2.0     8000\n",
      "4.0     8000\n",
      "1.0     7000\n",
      "Name: Class, dtype: int64\n"
     ]
    }
   ],
   "source": [
    "#extract class\n",
    "class_0=mit_train[mit_train[\"Class\"]==0]\n",
    "class_1=mit_train[mit_train[\"Class\"]==1]\n",
    "class_2=mit_train[mit_train[\"Class\"]==2]\n",
    "class_3=mit_train[mit_train[\"Class\"]==3]\n",
    "class_4=mit_train[mit_train[\"Class\"]==4]\n",
    "#upsampling and equalize the number of sample for each class\n",
    "#class_0_upsample=resample(class_0,replace=True,n_samples=80000,random_state=123)\n",
    "#class_1_upsample=resample(class_1,replace=True,n_samples=150000,random_state=123)\n",
    "#class_2_upsample=resample(class_2,replace=True,n_samples=90000,random_state=124)\n",
    "#class_3_upsample=resample(class_3,replace=True,n_samples=120000,random_state=125)\n",
    "#class_4_upsample=resample(class_4,replace=True,n_samples=80000,random_state=126)\n",
    "class_0_upsample=class_0\n",
    "class_1_upsample=resample(class_1,replace=True,n_samples=7000,random_state=123)\n",
    "class_2_upsample=resample(class_2,replace=True,n_samples=8000,random_state=124)\n",
    "class_3_upsample=resample(class_3,replace=True,n_samples=10000,random_state=125)\n",
    "class_4_upsample=resample(class_4,replace=True,n_samples=8000,random_state=126)\n",
    "\n",
    "#combine\n",
    "mit_train=pd.concat([class_0_upsample,class_1_upsample,class_2_upsample,class_3_upsample,class_4_upsample])\n",
    "print(mit_train.shape)\n",
    "print(mit_train[\"Class\"].value_counts())"
   ]
  },
  {
   "cell_type": "code",
   "execution_count": 30,
   "metadata": {},
   "outputs": [],
   "source": [
    "#Split train data into train and valid data\n",
    "train, valid, out_train, out_valid = train_test_split(mit_train.iloc[:,:187], mit_train[\"Class\"], train_size = 0.8, random_state=42)\n",
    "test, out_test = mit_test.iloc[:,:187], mit_test[\"Class\"]\n",
    "\n",
    "#Normalize the data\n",
    "train = normalize(train, axis = 0, norm='max')\n",
    "test = normalize(test, axis = 0, norm='max')\n",
    "valid = normalize(valid, axis = 0, norm='max')\n",
    "\n",
    "#Change 2D (mxn) data into 3D data (mxnx1)\n",
    "x_train = train.reshape(train.shape[0],train.shape[1],1)\n",
    "x_test = test.reshape(test.shape[0],test.shape[1],1)\n",
    "x_valid = valid.reshape(valid.shape[0],valid.shape[1],1)\n",
    "\n",
    "#Categorize the target\n",
    "y_train = to_categorical(out_train)\n",
    "y_test = to_categorical(out_test)\n",
    "y_valid = to_categorical(out_valid)"
   ]
  },
  {
   "cell_type": "code",
   "execution_count": 31,
   "metadata": {},
   "outputs": [],
   "source": [
    "from keras.layers import Dense,Flatten,Conv1D,Activation,Dropout,Input,BatchNormalization, SeparableConv1D\n",
    "from keras.layers import GlobalMaxPooling1D, Input\n",
    "from keras import backend as K\n",
    "from keras import layers\n",
    "from keras.models import Sequential, Model\n",
    "from keras.models import load_model\n",
    "from keras.layers import MaxPooling1D"
   ]
  },
  {
   "cell_type": "code",
   "execution_count": 32,
   "metadata": {},
   "outputs": [],
   "source": [
    "def VGG19():\n",
    "    model = Sequential()\n",
    "    model.add(Conv1D(input_shape=(187,1),filters=64,kernel_size=3,padding=\"same\", activation=\"relu\"))\n",
    "    model.add(Conv1D(filters=64,kernel_size=3,padding=\"same\"))\n",
    "    model.add(MaxPooling1D(pool_size=6,strides=2))\n",
    "    model.add(Conv1D(filters=64, kernel_size=3, padding=\"same\"))\n",
    "    model.add(BatchNormalization())\n",
    "    model.add(MaxPooling1D(pool_size=6,strides=2))\n",
    "    model.add(Activation(\"relu\"))\n",
    "    model.add(Conv1D(filters=64, kernel_size=3, padding=\"same\"))\n",
    "    model.add(BatchNormalization())\n",
    "    model.add(Conv1D(filters=64, kernel_size=3, padding=\"same\"))\n",
    "    model.add(BatchNormalization())\n",
    "    model.add(MaxPooling1D(pool_size=6,strides=2))\n",
    "    model.add(Activation(\"relu\"))\n",
    "    model.add(Dropout(0.2))\n",
    "    model.add(Conv1D(filters=64, kernel_size=3, padding=\"same\"))\n",
    "    model.add(BatchNormalization())\n",
    "    model.add(Conv1D(filters=64, kernel_size=3, padding=\"same\"))\n",
    "    model.add(BatchNormalization())\n",
    "    model.add(MaxPooling1D(pool_size=6,strides=2))\n",
    "    model.add(Activation(\"relu\"))\n",
    "    model.add(Conv1D(filters=64, kernel_size=3, padding=\"same\"))\n",
    "    model.add(BatchNormalization())\n",
    "    model.add(Conv1D(filters=64, kernel_size=3, padding=\"same\"))\n",
    "    model.add(BatchNormalization())\n",
    "    model.add(MaxPooling1D(pool_size=6,strides=2))\n",
    "    model.add(Conv1D(filters=64, kernel_size=3, padding=\"same\"))\n",
    "    model.add(BatchNormalization())\n",
    "    model.add(Activation(\"relu\"))\n",
    "    model.add(Dropout(0.2))\n",
    "    model.add(Flatten(name='flatten'))\n",
    "    model.add(Dense(128, name='fc1'))\n",
    "    model.add(Activation(\"relu\"))\n",
    "    model.add(Dense(128, name='fc2'))\n",
    "    model.add(Activation(\"relu\"))\n",
    "    # model.add(Dense(64, activation='relu', name='fc3'))\n",
    "    model.add(Dense(5 , activation = 'softmax', name='output'))\n",
    "    return model\n"
   ]
  },
  {
   "cell_type": "code",
   "execution_count": 33,
   "metadata": {},
   "outputs": [
    {
     "name": "stdout",
     "output_type": "stream",
     "text": [
      "Model: \"sequential_5\"\n",
      "_________________________________________________________________\n",
      " Layer (type)                Output Shape              Param #   \n",
      "=================================================================\n",
      " conv1d_54 (Conv1D)          (None, 187, 64)           256       \n",
      "                                                                 \n",
      " conv1d_55 (Conv1D)          (None, 187, 64)           12352     \n",
      "                                                                 \n",
      " max_pooling1d_27 (MaxPoolin  (None, 91, 64)           0         \n",
      " g1D)                                                            \n",
      "                                                                 \n",
      " conv1d_56 (Conv1D)          (None, 91, 64)            12352     \n",
      "                                                                 \n",
      " batch_normalization_44 (Bat  (None, 91, 64)           256       \n",
      " chNormalization)                                                \n",
      "                                                                 \n",
      " max_pooling1d_28 (MaxPoolin  (None, 43, 64)           0         \n",
      " g1D)                                                            \n",
      "                                                                 \n",
      " activation_15 (Activation)  (None, 43, 64)            0         \n",
      "                                                                 \n",
      " conv1d_57 (Conv1D)          (None, 43, 64)            12352     \n",
      "                                                                 \n",
      " batch_normalization_45 (Bat  (None, 43, 64)           256       \n",
      " chNormalization)                                                \n",
      "                                                                 \n",
      " conv1d_58 (Conv1D)          (None, 43, 64)            12352     \n",
      "                                                                 \n",
      " batch_normalization_46 (Bat  (None, 43, 64)           256       \n",
      " chNormalization)                                                \n",
      "                                                                 \n",
      " max_pooling1d_29 (MaxPoolin  (None, 19, 64)           0         \n",
      " g1D)                                                            \n",
      "                                                                 \n",
      " activation_16 (Activation)  (None, 19, 64)            0         \n",
      "                                                                 \n",
      " dropout_6 (Dropout)         (None, 19, 64)            0         \n",
      "                                                                 \n",
      " conv1d_59 (Conv1D)          (None, 19, 64)            12352     \n",
      "                                                                 \n",
      " batch_normalization_47 (Bat  (None, 19, 64)           256       \n",
      " chNormalization)                                                \n",
      "                                                                 \n",
      " conv1d_60 (Conv1D)          (None, 19, 64)            12352     \n",
      "                                                                 \n",
      " batch_normalization_48 (Bat  (None, 19, 64)           256       \n",
      " chNormalization)                                                \n",
      "                                                                 \n",
      " max_pooling1d_30 (MaxPoolin  (None, 7, 64)            0         \n",
      " g1D)                                                            \n",
      "                                                                 \n",
      " activation_17 (Activation)  (None, 7, 64)             0         \n",
      "                                                                 \n",
      " conv1d_61 (Conv1D)          (None, 7, 64)             12352     \n",
      "                                                                 \n",
      " batch_normalization_49 (Bat  (None, 7, 64)            256       \n",
      " chNormalization)                                                \n",
      "                                                                 \n",
      " conv1d_62 (Conv1D)          (None, 7, 64)             12352     \n",
      "                                                                 \n",
      " batch_normalization_50 (Bat  (None, 7, 64)            256       \n",
      " chNormalization)                                                \n",
      "                                                                 \n",
      " max_pooling1d_31 (MaxPoolin  (None, 1, 64)            0         \n",
      " g1D)                                                            \n",
      "                                                                 \n",
      " conv1d_63 (Conv1D)          (None, 1, 64)             12352     \n",
      "                                                                 \n",
      " batch_normalization_51 (Bat  (None, 1, 64)            256       \n",
      " chNormalization)                                                \n",
      "                                                                 \n",
      " activation_18 (Activation)  (None, 1, 64)             0         \n",
      "                                                                 \n",
      " dropout_7 (Dropout)         (None, 1, 64)             0         \n",
      "                                                                 \n",
      " flatten (Flatten)           (None, 64)                0         \n",
      "                                                                 \n",
      " fc1 (Dense)                 (None, 128)               8320      \n",
      "                                                                 \n",
      " activation_19 (Activation)  (None, 128)               0         \n",
      "                                                                 \n",
      " fc2 (Dense)                 (None, 128)               16512     \n",
      "                                                                 \n",
      " activation_20 (Activation)  (None, 128)               0         \n",
      "                                                                 \n",
      " output (Dense)              (None, 5)                 645       \n",
      "                                                                 \n",
      "=================================================================\n",
      "Total params: 138,949\n",
      "Trainable params: 137,925\n",
      "Non-trainable params: 1,024\n",
      "_________________________________________________________________\n"
     ]
    }
   ],
   "source": [
    "model_khanh= VGG19()\n",
    "model_khanh.summary()\n",
    "checkpoint_cb = ModelCheckpoint(\"CVDs_khanh1.h5\", save_best_only=True)\n",
    "model_khanh.compile(optimizer=\"adam\", loss=\"categorical_crossentropy\", metrics=[tfa.metrics.F1Score(2,\"micro\")])"
   ]
  },
  {
   "cell_type": "code",
   "execution_count": 34,
   "metadata": {},
   "outputs": [
    {
     "name": "stdout",
     "output_type": "stream",
     "text": [
      "Epoch 1/40\n",
      "2637/2637 [==============================] - 60s 19ms/step - loss: 0.2996 - f1_score: 0.9059 - val_loss: 0.2490 - val_f1_score: 0.9261\n",
      "Epoch 2/40\n",
      "2637/2637 [==============================] - 47s 18ms/step - loss: 0.1935 - f1_score: 0.9399 - val_loss: 0.1550 - val_f1_score: 0.9498\n",
      "Epoch 3/40\n",
      "2637/2637 [==============================] - 47s 18ms/step - loss: 0.1626 - f1_score: 0.9474 - val_loss: 0.1413 - val_f1_score: 0.9520\n",
      "Epoch 4/40\n",
      "2637/2637 [==============================] - 47s 18ms/step - loss: 0.1418 - f1_score: 0.9530 - val_loss: 0.2155 - val_f1_score: 0.9177\n",
      "Epoch 5/40\n",
      "2637/2637 [==============================] - 51s 19ms/step - loss: 0.1267 - f1_score: 0.9586 - val_loss: 0.1735 - val_f1_score: 0.9435\n",
      "Epoch 6/40\n",
      "2637/2637 [==============================] - 48s 18ms/step - loss: 0.1150 - f1_score: 0.9621 - val_loss: 0.1065 - val_f1_score: 0.9632\n",
      "Epoch 7/40\n",
      "2637/2637 [==============================] - 49s 19ms/step - loss: 0.1040 - f1_score: 0.9651 - val_loss: 0.1507 - val_f1_score: 0.9473\n",
      "Epoch 8/40\n",
      "2637/2637 [==============================] - 47s 18ms/step - loss: 0.0952 - f1_score: 0.9676 - val_loss: 0.1020 - val_f1_score: 0.9648\n",
      "Epoch 9/40\n",
      "2637/2637 [==============================] - 48s 18ms/step - loss: 0.0887 - f1_score: 0.9702 - val_loss: 0.1182 - val_f1_score: 0.9605\n",
      "Epoch 10/40\n",
      "2637/2637 [==============================] - 47s 18ms/step - loss: 0.0834 - f1_score: 0.9721 - val_loss: 0.0701 - val_f1_score: 0.9753\n",
      "Epoch 11/40\n",
      "2637/2637 [==============================] - 50s 19ms/step - loss: 0.0791 - f1_score: 0.9734 - val_loss: 0.0683 - val_f1_score: 0.9764\n",
      "Epoch 12/40\n",
      "2637/2637 [==============================] - 47s 18ms/step - loss: 0.0743 - f1_score: 0.9755 - val_loss: 0.0755 - val_f1_score: 0.9751\n",
      "Epoch 13/40\n",
      "2637/2637 [==============================] - 47s 18ms/step - loss: 0.0711 - f1_score: 0.9757 - val_loss: 0.0617 - val_f1_score: 0.9782\n",
      "Epoch 14/40\n",
      "2637/2637 [==============================] - 46s 18ms/step - loss: 0.0676 - f1_score: 0.9774 - val_loss: 0.0678 - val_f1_score: 0.9770\n",
      "Epoch 15/40\n",
      "2637/2637 [==============================] - 49s 19ms/step - loss: 0.0651 - f1_score: 0.9781 - val_loss: 0.0568 - val_f1_score: 0.9802\n",
      "Epoch 16/40\n",
      "2637/2637 [==============================] - 50s 19ms/step - loss: 0.0653 - f1_score: 0.9786 - val_loss: 0.0583 - val_f1_score: 0.9800\n",
      "Epoch 17/40\n",
      "2637/2637 [==============================] - 51s 19ms/step - loss: 0.0601 - f1_score: 0.9800 - val_loss: 0.0632 - val_f1_score: 0.9788\n",
      "Epoch 18/40\n",
      "2637/2637 [==============================] - 49s 18ms/step - loss: 0.0573 - f1_score: 0.9808 - val_loss: 0.0553 - val_f1_score: 0.9824\n",
      "Epoch 19/40\n",
      "2637/2637 [==============================] - 47s 18ms/step - loss: 0.0556 - f1_score: 0.9814 - val_loss: 0.0617 - val_f1_score: 0.9781\n",
      "Epoch 20/40\n",
      "2637/2637 [==============================] - 47s 18ms/step - loss: 0.0546 - f1_score: 0.9817 - val_loss: 0.0480 - val_f1_score: 0.9831\n",
      "Epoch 21/40\n",
      "2637/2637 [==============================] - 51s 19ms/step - loss: 0.0526 - f1_score: 0.9827 - val_loss: 0.0408 - val_f1_score: 0.9855\n",
      "Epoch 22/40\n",
      "2637/2637 [==============================] - 52s 20ms/step - loss: 0.0500 - f1_score: 0.9837 - val_loss: 0.0614 - val_f1_score: 0.9801\n",
      "Epoch 23/40\n",
      "2637/2637 [==============================] - 48s 18ms/step - loss: 0.0488 - f1_score: 0.9838 - val_loss: 0.0480 - val_f1_score: 0.9843\n",
      "Epoch 24/40\n",
      "2637/2637 [==============================] - 51s 19ms/step - loss: 0.0474 - f1_score: 0.9840 - val_loss: 0.0791 - val_f1_score: 0.9739\n",
      "Epoch 25/40\n",
      "2637/2637 [==============================] - 49s 18ms/step - loss: 0.0471 - f1_score: 0.9842 - val_loss: 0.0589 - val_f1_score: 0.9809\n",
      "Epoch 26/40\n",
      "2637/2637 [==============================] - 46s 18ms/step - loss: 0.0442 - f1_score: 0.9852 - val_loss: 0.0567 - val_f1_score: 0.9805\n",
      "Epoch 27/40\n",
      "2637/2637 [==============================] - 47s 18ms/step - loss: 0.0435 - f1_score: 0.9861 - val_loss: 0.0553 - val_f1_score: 0.9824\n",
      "Epoch 28/40\n",
      "2637/2637 [==============================] - 47s 18ms/step - loss: 0.0427 - f1_score: 0.9858 - val_loss: 0.0487 - val_f1_score: 0.9849\n",
      "Epoch 29/40\n",
      "2637/2637 [==============================] - 48s 18ms/step - loss: 0.0416 - f1_score: 0.9863 - val_loss: 0.0495 - val_f1_score: 0.9830\n",
      "Epoch 30/40\n",
      "2637/2637 [==============================] - 48s 18ms/step - loss: 0.0427 - f1_score: 0.9859 - val_loss: 0.0439 - val_f1_score: 0.9854\n",
      "Epoch 31/40\n",
      "2637/2637 [==============================] - 54s 21ms/step - loss: 0.0406 - f1_score: 0.9867 - val_loss: 0.0354 - val_f1_score: 0.9890\n",
      "Epoch 32/40\n",
      "2637/2637 [==============================] - 54s 20ms/step - loss: 0.0398 - f1_score: 0.9869 - val_loss: 0.0524 - val_f1_score: 0.9818\n",
      "Epoch 33/40\n",
      "2637/2637 [==============================] - 54s 20ms/step - loss: 0.0370 - f1_score: 0.9881 - val_loss: 0.0351 - val_f1_score: 0.9886\n",
      "Epoch 34/40\n",
      "2637/2637 [==============================] - 57s 21ms/step - loss: 0.0372 - f1_score: 0.9876 - val_loss: 0.0424 - val_f1_score: 0.9854\n",
      "Epoch 35/40\n",
      "2637/2637 [==============================] - 52s 20ms/step - loss: 0.0368 - f1_score: 0.9881 - val_loss: 0.0400 - val_f1_score: 0.9870\n",
      "Epoch 36/40\n",
      "2637/2637 [==============================] - 51s 19ms/step - loss: 0.0353 - f1_score: 0.9884 - val_loss: 0.0324 - val_f1_score: 0.9891\n",
      "Epoch 37/40\n",
      "2637/2637 [==============================] - 51s 20ms/step - loss: 0.0340 - f1_score: 0.9889 - val_loss: 0.0341 - val_f1_score: 0.9887\n",
      "Epoch 38/40\n",
      "2637/2637 [==============================] - 52s 20ms/step - loss: 0.0346 - f1_score: 0.9884 - val_loss: 0.0416 - val_f1_score: 0.9861\n",
      "Epoch 39/40\n",
      "2637/2637 [==============================] - 51s 19ms/step - loss: 0.0348 - f1_score: 0.9886 - val_loss: 0.0334 - val_f1_score: 0.9895\n",
      "Epoch 40/40\n",
      "2637/2637 [==============================] - 50s 19ms/step - loss: 0.0324 - f1_score: 0.9895 - val_loss: 0.0300 - val_f1_score: 0.9905\n"
     ]
    }
   ],
   "source": [
    "history_khanh = model_khanh.fit(x_train, y_train, epochs=40, batch_size=32, validation_data=(x_valid, y_valid), callbacks=[checkpoint_cb])"
   ]
  },
  {
   "cell_type": "code",
   "execution_count": 36,
   "metadata": {},
   "outputs": [
    {
     "name": "stdout",
     "output_type": "stream",
     "text": [
      "2637/2637 [==============================] - 17s 7ms/step - loss: 0.0125 - f1_score: 0.9958\n",
      "685/685 [==============================] - 5s 7ms/step - loss: 0.0671 - f1_score: 0.9851\n",
      "660/660 [==============================] - 4s 6ms/step - loss: 0.0300 - f1_score: 0.9905\n"
     ]
    }
   ],
   "source": [
    "model_khanh.load_weights(\"CVDs_khanh1.h5\")\n",
    "#Evaluate train test valid data\n",
    "eval_train = model_khanh.evaluate(x_train, y_train)\n",
    "eval_test = model_khanh.evaluate(x_test, y_test)\n",
    "eval_valid = model_khanh.evaluate(x_valid, y_valid)"
   ]
  },
  {
   "cell_type": "code",
   "execution_count": 37,
   "metadata": {},
   "outputs": [
    {
     "name": "stdout",
     "output_type": "stream",
     "text": [
      "2637/2637 [==============================] - 14s 5ms/step\n",
      "685/685 [==============================] - 3s 5ms/step\n",
      "660/660 [==============================] - 3s 5ms/step\n"
     ]
    }
   ],
   "source": [
    "#Predict train, test, valid data\n",
    "pred_train = model_khanh.predict (x_train)\n",
    "model_pred_train = np.argmax(pred_train,axis=1)\n",
    "\n",
    "pred_test = model_khanh.predict (x_test)\n",
    "model_pred_test = np.argmax(pred_test,axis=1)\n",
    "\n",
    "pred_valid = model_khanh.predict (x_valid)\n",
    "model_pred_valid = np.argmax(pred_valid,axis=1)"
   ]
  },
  {
   "cell_type": "code",
   "execution_count": 38,
   "metadata": {},
   "outputs": [
    {
     "name": "stdout",
     "output_type": "stream",
     "text": [
      "Predict train outcome\n",
      "              precision    recall  f1-score   support\n",
      "\n",
      "           N       1.00      1.00      1.00     57881\n",
      "           S       0.98      0.99      0.99      5557\n",
      "           P       1.00      0.98      0.99      6439\n",
      "           F       0.99      1.00      0.99      8073\n",
      "           U       1.00      1.00      1.00      6426\n",
      "\n",
      "    accuracy                           1.00     84376\n",
      "   macro avg       0.99      0.99      0.99     84376\n",
      "weighted avg       1.00      1.00      1.00     84376\n",
      "\n"
     ]
    }
   ],
   "source": [
    "print(\"Predict train outcome\")\n",
    "print(classification_report(out_train, model_pred_train, target_names=[MIT_Outcome[i] for i in MIT_Outcome]))"
   ]
  },
  {
   "cell_type": "code",
   "execution_count": 39,
   "metadata": {},
   "outputs": [
    {
     "name": "stdout",
     "output_type": "stream",
     "text": [
      "Predict test outcome\n",
      "              precision    recall  f1-score   support\n",
      "\n",
      "           N       0.99      0.99      0.99     18118\n",
      "           S       0.84      0.84      0.84       556\n",
      "           P       0.98      0.94      0.96      1448\n",
      "           F       0.73      0.90      0.81       162\n",
      "           U       1.00      0.98      0.99      1608\n",
      "\n",
      "    accuracy                           0.99     21892\n",
      "   macro avg       0.91      0.93      0.92     21892\n",
      "weighted avg       0.99      0.99      0.99     21892\n",
      "\n"
     ]
    }
   ],
   "source": [
    "print(\"Predict test outcome\")\n",
    "print(classification_report(out_test, model_pred_test, target_names=[MIT_Outcome[i] for i in MIT_Outcome]))\n"
   ]
  },
  {
   "cell_type": "code",
   "execution_count": 40,
   "metadata": {},
   "outputs": [
    {
     "name": "stdout",
     "output_type": "stream",
     "text": [
      "Predict valid outcome\n",
      "              precision    recall  f1-score   support\n",
      "\n",
      "           N       1.00      0.99      0.99     14590\n",
      "           S       0.95      0.98      0.96      1443\n",
      "           P       0.99      0.97      0.98      1561\n",
      "           F       0.98      1.00      0.99      1927\n",
      "           U       1.00      0.99      0.99      1574\n",
      "\n",
      "    accuracy                           0.99     21095\n",
      "   macro avg       0.98      0.99      0.98     21095\n",
      "weighted avg       0.99      0.99      0.99     21095\n",
      "\n"
     ]
    }
   ],
   "source": [
    "print(\"Predict valid outcome\")\n",
    "print(classification_report(out_valid, model_pred_valid, target_names=[MIT_Outcome[i] for i in MIT_Outcome]))\n"
   ]
  },
  {
   "cell_type": "code",
   "execution_count": 41,
   "metadata": {},
   "outputs": [
    {
     "name": "stdout",
     "output_type": "stream",
     "text": [
      "True positive:  1577\n",
      "False positive:  2\n",
      "False negative:  31\n",
      "True negative:  20282\n"
     ]
    },
    {
     "data": {
      "text/plain": [
       "<Figure size 576x432 with 0 Axes>"
      ]
     },
     "metadata": {},
     "output_type": "display_data"
    },
    {
     "data": {
      "image/png": "[encoded data removed]",
      "text/plain": [
       "<Figure size 432x288 with 2 Axes>"
      ]
     },
     "metadata": {
      "needs_background": "light"
     },
     "output_type": "display_data"
    }
   ],
   "source": [
    "cmm = confusion_matrix(y_true= out_test, y_pred=model_pred_test, labels=list(MIT_Outcome.keys()), normalize = 'true')\n",
    "cm = confusion_matrix(y_true= out_test, y_pred=model_pred_test, labels=list(MIT_Outcome.keys()))\n",
    "plt.figure(figsize=(8,6))\n",
    "disp = ConfusionMatrixDisplay(confusion_matrix=cmm,display_labels=[MIT_Outcome[i] for i in MIT_Outcome],)\n",
    "disp.plot(cmap = \"Greys\")\n",
    "\n",
    "TruePositive = np.diag(cm)\n",
    "FalsePositive = []\n",
    "for i in range(len(MIT_Outcome)):\n",
    "    FalsePositive.append(sum(cm[:,i]) - cm[i,i])\n",
    "FalseNegative = []\n",
    "for i in range(len(MIT_Outcome)):\n",
    "    FalseNegative.append(sum(cm[i,:]) - cm[i,i])\n",
    "TrueNegative = []\n",
    "for i in range(len(MIT_Outcome)):\n",
    "    temp = np.delete(cm, i, 0)   # delete ith row\n",
    "    temp = np.delete(temp, i, 1)  # delete ith column\n",
    "    TrueNegative.append(sum(sum(temp)))\n",
    "#l = len(y)\n",
    "#for i in range(len(MIT_Outcome)):\n",
    "#    print(TruePositive[i] + FalsePositive[i] + FalseNegative[i] + TrueNegative[i] == l)\n",
    "print(\"True positive: \", TruePositive[i])\n",
    "print(\"False positive: \", FalsePositive[i])\n",
    "print(\"False negative: \", FalseNegative[i])\n",
    "print(\"True negative: \", TrueNegative[i])\n",
    "\n",
    "plt.show()"
   ]
  },
  {
   "cell_type": "code",
   "execution_count": 42,
   "metadata": {},
   "outputs": [
    {
     "data": {
      "image/png": "[encoded data removed]",
      "text/plain": [
       "<Figure size 432x288 with 1 Axes>"
      ]
     },
     "metadata": {
      "needs_background": "light"
     },
     "output_type": "display_data"
    }
   ],
   "source": [
    "plt.plot(history_khanh.epoch, history_khanh.history['loss'],\n",
    "           color='r', label='Train loss')\n",
    "plt.plot(history_khanh.epoch, history_khanh.history['val_loss'],\n",
    "           color='b', label='Val loss' , linestyle=\"--\")\n",
    "plt.xlabel('Epoch')\n",
    "plt.ylabel('Loss')\n",
    "plt.legend()\n",
    "plt.show()\n"
   ]
  },
  {
   "cell_type": "code",
   "execution_count": 43,
   "metadata": {},
   "outputs": [
    {
     "name": "stdout",
     "output_type": "stream",
     "text": [
      "Predict = Counter({0: 18163, 4: 1579, 2: 1393, 1: 558, 3: 199})\n",
      "True = Counter({0: 18118, 4: 1608, 2: 1448, 1: 556, 3: 162})\n"
     ]
    }
   ],
   "source": [
    "import collections\n",
    "count_predict = collections.Counter(model_pred_test)\n",
    "model_y_test = np.argmax(y_test, axis = 1)\n",
    "count_true = collections.Counter(model_y_test)\n",
    "print(f\"Predict = {count_predict}\")\n",
    "print(f\"True = {count_true}\")"
   ]
  }
 ],
 "metadata": {
  "kernelspec": {
   "display_name": "Python 3",
   "language": "python",
   "name": "python3"
  },
  "language_info": {
   "codemirror_mode": {
    "name": "ipython",
    "version": 3
   },
   "file_extension": ".py",
   "mimetype": "text/x-python",
   "name": "python",
   "nbconvert_exporter": "python",
   "pygments_lexer": "ipython3",
   "version": "3.10.5 (tags/v3.10.5:f377153, Jun  6 2022, 16:14:13) [MSC v.1929 64 bit (AMD64)]"
  },
  "orig_nbformat": 4,
  "vscode": {
   "interpreter": {
    "hash": "d3e10ef16274dd72e574b8fa73b58450b957d8421a2901baded3cca26fcf5dda"
   }
  }
 },
 "nbformat": 4,
 "nbformat_minor": 2
}
