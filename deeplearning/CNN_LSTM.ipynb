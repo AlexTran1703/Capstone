{
 "cells": [
  {
   "cell_type": "code",
   "execution_count": 44,
   "metadata": {},
   "outputs": [],
   "source": [
    "#THIS IS USED FOR TRAINING ON COMPUTER\n",
    "import numpy as np # linear algebra\n",
    "import pandas as pd # data processing, CSV file I/O (e.g. pd.read_csv)\n",
    "import matplotlib.pyplot as plt\n",
    "path_test = 'D:/OneDrive - VietNam National University - HCM INTERNATIONAL UNIVERSITY/Code/CapstoneCode/Data/mitbih_test.csv'\n",
    "path_train = 'D:/OneDrive - VietNam National University - HCM INTERNATIONAL UNIVERSITY/Code/CapstoneCode/Data/mitbih_train.csv'\n",
    "mit_test = pd.read_csv(path_test,header=None)\n",
    "mit_train = pd.read_csv(path_train, header=None)"
   ]
  },
  {
   "cell_type": "code",
   "execution_count": 45,
   "metadata": {},
   "outputs": [],
   "source": [
    "#Replace columns 187 with Class\n",
    "mit_test.rename(columns={187:\"Class\"}, inplace=True)\n",
    "mit_train.rename(columns={187:\"Class\"}, inplace=True)"
   ]
  },
  {
   "cell_type": "code",
   "execution_count": 46,
   "metadata": {},
   "outputs": [],
   "source": [
    "# Setting Dictionary to define the type of Heartbeat\n",
    "# N: normal\n",
    "#S: Supraventricular premature beat\n",
    "#P: Premature ventricular contraction\n",
    "#F: Fusion of ventricular and normal beat\n",
    "#U: Unclassifiable beat\n",
    "MIT_Outcome = {0. : 'N',\n",
    "               1. : 'S',\n",
    "               2. : 'P',\n",
    "               3. : 'F',\n",
    "               4. : 'U'}"
   ]
  },
  {
   "cell_type": "code",
   "execution_count": 47,
   "metadata": {},
   "outputs": [],
   "source": [
    "from sklearn.model_selection import train_test_split\n",
    "from sklearn.preprocessing import normalize\n",
    "from sklearn.metrics import classification_report, plot_confusion_matrix, confusion_matrix,  ConfusionMatrixDisplay\n",
    "from sklearn.utils import resample\n",
    "\n",
    "import tensorflow as tf\n",
    "import tensorflow_addons as tfa\n",
    "from tensorflow import keras\n",
    "from tensorflow.keras.layers import Dense, Conv1D, MaxPool1D, Flatten, Dropout, InputLayer, LSTM, GRU, BatchNormalization, Bidirectional, Concatenate, ReLU, SeparableConv1D\n",
    "from tensorflow.keras.models import Model\n",
    "from tensorflow.compat.v1.keras.layers import CuDNNLSTM\n",
    "from tensorflow.keras.callbacks import EarlyStopping, ModelCheckpoint\n",
    "from tensorflow.keras.preprocessing import sequence\n",
    "from tensorflow.keras.optimizers import SGD, RMSprop\n",
    "from tensorflow.keras.utils import to_categorical"
   ]
  },
  {
   "cell_type": "code",
   "execution_count": 48,
   "metadata": {},
   "outputs": [
    {
     "name": "stdout",
     "output_type": "stream",
     "text": [
      "(87554, 188)\n",
      "0.0    72471\n",
      "4.0     6431\n",
      "2.0     5788\n",
      "1.0     2223\n",
      "3.0      641\n",
      "Name: Class, dtype: int64\n"
     ]
    }
   ],
   "source": [
    "#extract class\n",
    "class_0=mit_train[mit_train[\"Class\"]==0]\n",
    "class_1=mit_train[mit_train[\"Class\"]==1]\n",
    "class_2=mit_train[mit_train[\"Class\"]==2]\n",
    "class_3=mit_train[mit_train[\"Class\"]==3]\n",
    "class_4=mit_train[mit_train[\"Class\"]==4]\n",
    "#upsampling and equalize the number of sample for each class\n",
    "#class_0_upsample=resample(class_0,replace=True,n_samples=80000,random_state=123)\n",
    "#class_1_upsample=resample(class_1,replace=True,n_samples=150000,random_state=123)\n",
    "#class_2_upsample=resample(class_2,replace=True,n_samples=90000,random_state=124)\n",
    "#class_3_upsample=resample(class_3,replace=True,n_samples=120000,random_state=125)\n",
    "#class_4_upsample=resample(class_4,replace=True,n_samples=80000,random_state=126)\n",
    "class_0_upsample=class_0\n",
    "#class_1_upsample=resample(class_1,replace=True,n_samples=7000,random_state=123)\n",
    "#class_2_upsample=resample(class_2,replace=True,n_samples=8000,random_state=124)\n",
    "#class_3_upsample=resample(class_3,replace=True,n_samples=10000,random_state=125)\n",
    "#class_4_upsample=resample(class_4,replace=True,n_samples=8000,random_state=126)\n",
    "\n",
    "#combine\n",
    "mit_train=pd.concat([class_0,class_1,class_2,class_3,class_4])\n",
    "print(mit_train.shape)\n",
    "print(mit_train[\"Class\"].value_counts())"
   ]
  },
  {
   "cell_type": "code",
   "execution_count": 49,
   "metadata": {},
   "outputs": [],
   "source": [
    "#Split train data into train and valid data\n",
    "train, valid, out_train, out_valid = train_test_split(mit_train.iloc[:,:187], mit_train[\"Class\"], train_size = 0.8, random_state=42)\n",
    "test, out_test = mit_test.iloc[:,:187], mit_test[\"Class\"]\n",
    "\n",
    "#Normalize the data\n",
    "train = normalize(train, axis = 0, norm='max')\n",
    "test = normalize(test, axis = 0, norm='max')\n",
    "valid = normalize(valid, axis = 0, norm='max')\n",
    "\n",
    "#Change 2D (mxn) data into 3D data (mxnx1)\n",
    "x_train = train.reshape(train.shape[0],train.shape[1],1)\n",
    "x_test = test.reshape(test.shape[0],test.shape[1],1)\n",
    "x_valid = valid.reshape(valid.shape[0],valid.shape[1],1)\n",
    "\n",
    "#Categorize the target\n",
    "y_train = to_categorical(out_train)\n",
    "y_test = to_categorical(out_test)\n",
    "y_valid = to_categorical(out_valid)"
   ]
  },
  {
   "cell_type": "code",
   "execution_count": 50,
   "metadata": {},
   "outputs": [],
   "source": [
    "def LSTM_Khanh(input_shape=(x_train.shape[1],1)):\n",
    "    model = keras.models.Sequential()\n",
    "    \n",
    "    input_sig = tf.keras.layers.Input (shape=(input_shape))\n",
    "    \n",
    "    conv1 = Conv1D(filters = 32, kernel_size = 6, padding = 'same') (input_sig)\n",
    "    conv1 = BatchNormalization() (conv1)\n",
    "    \n",
    "    conv2 = Conv1D(filters = 32, kernel_size = 6, padding = 'same') (conv1)\n",
    "    conv2 = BatchNormalization() (conv2)\n",
    "    \n",
    "    conv3 = Conv1D(filters = 32, kernel_size = 6, padding = 'same') (conv2)\n",
    "    conv3 = BatchNormalization() (conv3)\n",
    "    conv3 = ReLU() (conv3)\n",
    "    max3 = MaxPool1D(6, padding = 'same') (conv3)\n",
    "    \n",
    "    lstm1 = CuDNNLSTM(64, return_sequences = True, return_state = True) (max3)\n",
    "    #lstm1 = BatchNormalization() (lstm1[0])\n",
    "    lstm1 = ReLU() (lstm1[0])\n",
    "    \n",
    "    conv4 = Conv1D(filters = 32, kernel_size = 6, padding = 'same') (lstm1)\n",
    "    conv4 = BatchNormalization() (conv4)\n",
    "    \n",
    "    conv5 = Conv1D(filters = 32, kernel_size = 6, padding = 'same') (conv4)\n",
    "    conv5 = BatchNormalization() (conv5)\n",
    "    conv5 = ReLU() (conv5)\n",
    "    max6 = MaxPool1D(6, padding = 'same') (conv5)\n",
    "    \n",
    "    lstm2 = CuDNNLSTM(64, return_sequences = True, return_state = True) (max6)\n",
    "    #lstm2 = BatchNormalization() (lstm2[0])\n",
    "    lstm2 = ReLU() (lstm2[0])\n",
    "    \n",
    "    conv6 = Conv1D(filters = 32, kernel_size = 6, padding = 'same') (lstm2)\n",
    "    conv6 = BatchNormalization() (conv6)\n",
    "    \n",
    "    conv7 = Conv1D(filters = 32, kernel_size = 6, padding = 'same') (conv6)\n",
    "    conv7 = BatchNormalization() (conv7)\n",
    "    conv7 = ReLU() (conv7)\n",
    "    max9 = MaxPool1D(6, padding = 'same') (conv7)\n",
    "    \n",
    "    lstm3 = CuDNNLSTM(64, return_sequences = True, return_state = True) (max9)\n",
    "    #lstm3 = BatchNormalization() (lstm3[0])\n",
    "    lstm3 = ReLU() (lstm3[0])\n",
    "    \n",
    "    flat = Flatten() (lstm3)\n",
    "    dense = Dense(32, activation = 'relu') (flat)\n",
    "    dense = Dense(32, activation = 'relu') (dense)\n",
    "    dense_out = Dense(5, activation = \"softmax\") (dense)\n",
    "    \n",
    "    model = Model (inputs=input_sig , outputs=dense_out)\n",
    "    \n",
    "    model.compile(optimizer=\"adam\", loss=\"categorical_crossentropy\", metrics=[tfa.metrics.F1Score(2,\"micro\")])\n",
    "    return model"
   ]
  },
  {
   "cell_type": "code",
   "execution_count": 51,
   "metadata": {},
   "outputs": [
    {
     "name": "stdout",
     "output_type": "stream",
     "text": [
      "Model: \"model_3\"\n",
      "_________________________________________________________________\n",
      " Layer (type)                Output Shape              Param #   \n",
      "=================================================================\n",
      " input_5 (InputLayer)        [(None, 187, 1)]          0         \n",
      "                                                                 \n",
      " conv1d_28 (Conv1D)          (None, 187, 32)           224       \n",
      "                                                                 \n",
      " batch_normalization_34 (Bat  (None, 187, 32)          128       \n",
      " chNormalization)                                                \n",
      "                                                                 \n",
      " conv1d_29 (Conv1D)          (None, 187, 32)           6176      \n",
      "                                                                 \n",
      " batch_normalization_35 (Bat  (None, 187, 32)          128       \n",
      " chNormalization)                                                \n",
      "                                                                 \n",
      " conv1d_30 (Conv1D)          (None, 187, 32)           6176      \n",
      "                                                                 \n",
      " batch_normalization_36 (Bat  (None, 187, 32)          128       \n",
      " chNormalization)                                                \n",
      "                                                                 \n",
      " re_lu_24 (ReLU)             (None, 187, 32)           0         \n",
      "                                                                 \n",
      " max_pooling1d_12 (MaxPoolin  (None, 32, 32)           0         \n",
      " g1D)                                                            \n",
      "                                                                 \n",
      " cu_dnnlstm_12 (CuDNNLSTM)   [(None, 32, 64),          25088     \n",
      "                              (None, 64),                        \n",
      "                              (None, 64)]                        \n",
      "                                                                 \n",
      " re_lu_25 (ReLU)             (None, 32, 64)            0         \n",
      "                                                                 \n",
      " conv1d_31 (Conv1D)          (None, 32, 32)            12320     \n",
      "                                                                 \n",
      " batch_normalization_37 (Bat  (None, 32, 32)           128       \n",
      " chNormalization)                                                \n",
      "                                                                 \n",
      " conv1d_32 (Conv1D)          (None, 32, 32)            6176      \n",
      "                                                                 \n",
      " batch_normalization_38 (Bat  (None, 32, 32)           128       \n",
      " chNormalization)                                                \n",
      "                                                                 \n",
      " re_lu_26 (ReLU)             (None, 32, 32)            0         \n",
      "                                                                 \n",
      " max_pooling1d_13 (MaxPoolin  (None, 6, 32)            0         \n",
      " g1D)                                                            \n",
      "                                                                 \n",
      " cu_dnnlstm_13 (CuDNNLSTM)   [(None, 6, 64),           25088     \n",
      "                              (None, 64),                        \n",
      "                              (None, 64)]                        \n",
      "                                                                 \n",
      " re_lu_27 (ReLU)             (None, 6, 64)             0         \n",
      "                                                                 \n",
      " conv1d_33 (Conv1D)          (None, 6, 32)             12320     \n",
      "                                                                 \n",
      " batch_normalization_39 (Bat  (None, 6, 32)            128       \n",
      " chNormalization)                                                \n",
      "                                                                 \n",
      " conv1d_34 (Conv1D)          (None, 6, 32)             6176      \n",
      "                                                                 \n",
      " batch_normalization_40 (Bat  (None, 6, 32)            128       \n",
      " chNormalization)                                                \n",
      "                                                                 \n",
      " re_lu_28 (ReLU)             (None, 6, 32)             0         \n",
      "                                                                 \n",
      " max_pooling1d_14 (MaxPoolin  (None, 1, 32)            0         \n",
      " g1D)                                                            \n",
      "                                                                 \n",
      " cu_dnnlstm_14 (CuDNNLSTM)   [(None, 1, 64),           25088     \n",
      "                              (None, 64),                        \n",
      "                              (None, 64)]                        \n",
      "                                                                 \n",
      " re_lu_29 (ReLU)             (None, 1, 64)             0         \n",
      "                                                                 \n",
      " flatten_4 (Flatten)         (None, 64)                0         \n",
      "                                                                 \n",
      " dense_10 (Dense)            (None, 32)                2080      \n",
      "                                                                 \n",
      " dense_11 (Dense)            (None, 32)                1056      \n",
      "                                                                 \n",
      " dense_12 (Dense)            (None, 5)                 165       \n",
      "                                                                 \n",
      "=================================================================\n",
      "Total params: 129,029\n",
      "Trainable params: 128,581\n",
      "Non-trainable params: 448\n",
      "_________________________________________________________________\n"
     ]
    }
   ],
   "source": [
    "checkpoint_cb = ModelCheckpoint(\"LSTM_khanhnhoown.h5\", save_best_only=True)\n",
    "\n",
    "model_khanh= LSTM_Khanh(input_shape=(x_train.shape[1], x_train.shape[2]))\n",
    "model_khanh.summary()"
   ]
  },
  {
   "cell_type": "code",
   "execution_count": 52,
   "metadata": {},
   "outputs": [
    {
     "name": "stdout",
     "output_type": "stream",
     "text": [
      "Epoch 1/40\n",
      "2189/2189 [==============================] - 65s 27ms/step - loss: 0.1914 - f1_score: 0.9480 - val_loss: 0.1310 - val_f1_score: 0.9623\n",
      "Epoch 2/40\n",
      "2189/2189 [==============================] - 57s 26ms/step - loss: 0.1021 - f1_score: 0.9719 - val_loss: 0.0769 - val_f1_score: 0.9801\n",
      "Epoch 3/40\n",
      "2189/2189 [==============================] - 54s 25ms/step - loss: 0.0796 - f1_score: 0.9782 - val_loss: 0.0740 - val_f1_score: 0.9798\n",
      "Epoch 4/40\n",
      "2189/2189 [==============================] - 54s 24ms/step - loss: 0.0683 - f1_score: 0.9809 - val_loss: 0.0677 - val_f1_score: 0.9816\n",
      "Epoch 5/40\n",
      "2189/2189 [==============================] - 55s 25ms/step - loss: 0.0621 - f1_score: 0.9823 - val_loss: 0.0881 - val_f1_score: 0.9702\n",
      "Epoch 6/40\n",
      "2189/2189 [==============================] - 52s 24ms/step - loss: 0.0541 - f1_score: 0.9844 - val_loss: 0.0611 - val_f1_score: 0.9821\n",
      "Epoch 7/40\n",
      "2189/2189 [==============================] - 52s 24ms/step - loss: 0.0501 - f1_score: 0.9854 - val_loss: 0.0647 - val_f1_score: 0.9818\n",
      "Epoch 8/40\n",
      "2189/2189 [==============================] - 52s 24ms/step - loss: 0.0465 - f1_score: 0.9863 - val_loss: 0.0644 - val_f1_score: 0.9830\n",
      "Epoch 9/40\n",
      "2189/2189 [==============================] - 55s 25ms/step - loss: 0.0439 - f1_score: 0.9867 - val_loss: 0.0512 - val_f1_score: 0.9868\n",
      "Epoch 10/40\n",
      "2189/2189 [==============================] - 54s 25ms/step - loss: 0.0404 - f1_score: 0.9880 - val_loss: 0.0555 - val_f1_score: 0.9841\n",
      "Epoch 11/40\n",
      "2189/2189 [==============================] - 54s 25ms/step - loss: 0.0371 - f1_score: 0.9883 - val_loss: 0.0588 - val_f1_score: 0.9836\n",
      "Epoch 12/40\n",
      "2189/2189 [==============================] - 55s 25ms/step - loss: 0.0366 - f1_score: 0.9890 - val_loss: 0.0527 - val_f1_score: 0.9857\n",
      "Epoch 13/40\n",
      "2189/2189 [==============================] - 54s 25ms/step - loss: 0.0338 - f1_score: 0.9898 - val_loss: 0.0666 - val_f1_score: 0.9830\n",
      "Epoch 14/40\n",
      "2189/2189 [==============================] - 54s 25ms/step - loss: 0.0315 - f1_score: 0.9903 - val_loss: 0.0524 - val_f1_score: 0.9865\n",
      "Epoch 15/40\n",
      "2189/2189 [==============================] - 54s 25ms/step - loss: 0.0299 - f1_score: 0.9901 - val_loss: 0.0485 - val_f1_score: 0.9874\n",
      "Epoch 16/40\n",
      "2189/2189 [==============================] - 55s 25ms/step - loss: 0.0287 - f1_score: 0.9906 - val_loss: 0.0541 - val_f1_score: 0.9850\n",
      "Epoch 17/40\n",
      "2189/2189 [==============================] - 52s 24ms/step - loss: 0.0265 - f1_score: 0.9913 - val_loss: 0.0558 - val_f1_score: 0.9841\n",
      "Epoch 18/40\n",
      "2189/2189 [==============================] - 54s 25ms/step - loss: 0.0246 - f1_score: 0.9921 - val_loss: 0.0610 - val_f1_score: 0.9832\n",
      "Epoch 19/40\n",
      "2189/2189 [==============================] - 54s 25ms/step - loss: 0.0250 - f1_score: 0.9919 - val_loss: 0.0507 - val_f1_score: 0.9866\n",
      "Epoch 20/40\n",
      "2189/2189 [==============================] - 53s 24ms/step - loss: 0.0236 - f1_score: 0.9920 - val_loss: 0.0587 - val_f1_score: 0.9836\n",
      "Epoch 21/40\n",
      "2189/2189 [==============================] - 55s 25ms/step - loss: 0.0234 - f1_score: 0.9923 - val_loss: 0.0513 - val_f1_score: 0.9852\n",
      "Epoch 22/40\n",
      "2189/2189 [==============================] - 54s 25ms/step - loss: 0.0208 - f1_score: 0.9932 - val_loss: 0.0610 - val_f1_score: 0.9857\n",
      "Epoch 23/40\n",
      "2189/2189 [==============================] - 54s 25ms/step - loss: 0.0199 - f1_score: 0.9934 - val_loss: 0.0556 - val_f1_score: 0.9863\n",
      "Epoch 24/40\n",
      "2189/2189 [==============================] - 53s 24ms/step - loss: 0.0199 - f1_score: 0.9934 - val_loss: 0.0590 - val_f1_score: 0.9845\n",
      "Epoch 25/40\n",
      "2189/2189 [==============================] - 54s 25ms/step - loss: 0.0189 - f1_score: 0.9937 - val_loss: 0.0555 - val_f1_score: 0.9860\n",
      "Epoch 26/40\n",
      "2189/2189 [==============================] - 55s 25ms/step - loss: 0.0171 - f1_score: 0.9946 - val_loss: 0.0543 - val_f1_score: 0.9876\n",
      "Epoch 27/40\n",
      "2189/2189 [==============================] - 54s 25ms/step - loss: 0.0165 - f1_score: 0.9944 - val_loss: 0.0619 - val_f1_score: 0.9876\n",
      "Epoch 28/40\n",
      "2189/2189 [==============================] - 55s 25ms/step - loss: 0.0176 - f1_score: 0.9943 - val_loss: 0.0545 - val_f1_score: 0.9873\n",
      "Epoch 29/40\n",
      "2189/2189 [==============================] - 54s 25ms/step - loss: 0.0174 - f1_score: 0.9941 - val_loss: 0.0501 - val_f1_score: 0.9872\n",
      "Epoch 30/40\n",
      "2189/2189 [==============================] - 54s 25ms/step - loss: 0.0144 - f1_score: 0.9952 - val_loss: 0.0666 - val_f1_score: 0.9866\n",
      "Epoch 31/40\n",
      "2189/2189 [==============================] - 55s 25ms/step - loss: 0.0163 - f1_score: 0.9946 - val_loss: 0.0557 - val_f1_score: 0.9855\n",
      "Epoch 32/40\n",
      "2189/2189 [==============================] - 56s 26ms/step - loss: 0.0132 - f1_score: 0.9958 - val_loss: 0.0563 - val_f1_score: 0.9872\n",
      "Epoch 33/40\n",
      "2189/2189 [==============================] - 56s 26ms/step - loss: 0.0145 - f1_score: 0.9952 - val_loss: 0.0594 - val_f1_score: 0.9870\n",
      "Epoch 34/40\n",
      "2189/2189 [==============================] - 56s 26ms/step - loss: 0.0140 - f1_score: 0.9953 - val_loss: 0.0625 - val_f1_score: 0.9870\n",
      "Epoch 35/40\n",
      "2189/2189 [==============================] - 54s 25ms/step - loss: 0.0134 - f1_score: 0.9954 - val_loss: 0.0550 - val_f1_score: 0.9874\n",
      "Epoch 36/40\n",
      "2189/2189 [==============================] - 54s 25ms/step - loss: 0.0140 - f1_score: 0.9954 - val_loss: 0.0590 - val_f1_score: 0.9866\n",
      "Epoch 37/40\n",
      "2189/2189 [==============================] - 55s 25ms/step - loss: 0.0131 - f1_score: 0.9957 - val_loss: 0.0574 - val_f1_score: 0.9865\n",
      "Epoch 38/40\n",
      "2189/2189 [==============================] - 56s 25ms/step - loss: 0.0128 - f1_score: 0.9958 - val_loss: 0.0671 - val_f1_score: 0.9856\n",
      "Epoch 39/40\n",
      "2189/2189 [==============================] - 52s 24ms/step - loss: 0.0115 - f1_score: 0.9961 - val_loss: 0.0689 - val_f1_score: 0.9867\n",
      "Epoch 40/40\n",
      "2189/2189 [==============================] - 52s 24ms/step - loss: 0.0118 - f1_score: 0.9961 - val_loss: 0.0601 - val_f1_score: 0.9873\n"
     ]
    }
   ],
   "source": [
    "history_khanh = model_khanh.fit(x_train, y_train, epochs=40, batch_size=32, validation_data=(x_valid, y_valid), callbacks=[checkpoint_cb])"
   ]
  },
  {
   "cell_type": "code",
   "execution_count": 53,
   "metadata": {},
   "outputs": [
    {
     "name": "stdout",
     "output_type": "stream",
     "text": [
      "2189/2189 [==============================] - 18s 8ms/step - loss: 0.0196 - f1_score: 0.9937\n",
      "685/685 [==============================] - 6s 8ms/step - loss: 0.0561 - f1_score: 0.9854\n",
      "548/548 [==============================] - 5s 8ms/step - loss: 0.0485 - f1_score: 0.9874\n"
     ]
    }
   ],
   "source": [
    "model_khanh.load_weights(\"LSTM_khanhnhoown.h5\")\n",
    "#Evaluate train test valid data\n",
    "eval_train = model_khanh.evaluate(x_train, y_train)\n",
    "eval_test = model_khanh.evaluate(x_test, y_test)\n",
    "eval_valid = model_khanh.evaluate(x_valid, y_valid)"
   ]
  },
  {
   "cell_type": "code",
   "execution_count": 54,
   "metadata": {},
   "outputs": [
    {
     "name": "stdout",
     "output_type": "stream",
     "text": [
      "2189/2189 [==============================] - 15s 7ms/step\n",
      "685/685 [==============================] - 5s 7ms/step\n",
      "548/548 [==============================] - 4s 7ms/step\n"
     ]
    }
   ],
   "source": [
    "#Predict train, test, valid data\n",
    "pred_train = model_khanh.predict (x_train)\n",
    "model_pred_train = np.argmax(pred_train,axis=1)\n",
    "\n",
    "pred_test = model_khanh.predict (x_test)\n",
    "model_pred_test = np.argmax(pred_test,axis=1)\n",
    "\n",
    "pred_valid = model_khanh.predict (x_valid)\n",
    "model_pred_valid = np.argmax(pred_valid,axis=1)"
   ]
  },
  {
   "cell_type": "code",
   "execution_count": 55,
   "metadata": {},
   "outputs": [
    {
     "name": "stdout",
     "output_type": "stream",
     "text": [
      "Predict train outcome\n",
      "              precision    recall  f1-score   support\n",
      "\n",
      "           N       1.00      1.00      1.00     57892\n",
      "           S       0.95      0.93      0.94      1797\n",
      "           P       0.98      0.99      0.98      4676\n",
      "           F       0.97      0.79      0.87       496\n",
      "           U       1.00      1.00      1.00      5182\n",
      "\n",
      "    accuracy                           0.99     70043\n",
      "   macro avg       0.98      0.94      0.96     70043\n",
      "weighted avg       0.99      0.99      0.99     70043\n",
      "\n"
     ]
    }
   ],
   "source": [
    "print(\"Predict train outcome\")\n",
    "print(classification_report(out_train, model_pred_train, target_names=[MIT_Outcome[i] for i in MIT_Outcome]))"
   ]
  },
  {
   "cell_type": "code",
   "execution_count": 56,
   "metadata": {},
   "outputs": [
    {
     "name": "stdout",
     "output_type": "stream",
     "text": [
      "Predict test outcome\n",
      "              precision    recall  f1-score   support\n",
      "\n",
      "           N       0.99      0.99      0.99     18118\n",
      "           S       0.87      0.81      0.84       556\n",
      "           P       0.96      0.96      0.96      1448\n",
      "           F       0.93      0.69      0.79       162\n",
      "           U       1.00      0.99      0.99      1608\n",
      "\n",
      "    accuracy                           0.99     21892\n",
      "   macro avg       0.95      0.89      0.92     21892\n",
      "weighted avg       0.99      0.99      0.99     21892\n",
      "\n"
     ]
    }
   ],
   "source": [
    "print(\"Predict test outcome\")\n",
    "print(classification_report(out_test, model_pred_test, target_names=[MIT_Outcome[i] for i in MIT_Outcome]))"
   ]
  },
  {
   "cell_type": "code",
   "execution_count": 57,
   "metadata": {},
   "outputs": [
    {
     "name": "stdout",
     "output_type": "stream",
     "text": [
      "Predict valid outcome\n",
      "              precision    recall  f1-score   support\n",
      "\n",
      "           N       0.99      1.00      0.99     14579\n",
      "           S       0.91      0.85      0.88       426\n",
      "           P       0.96      0.96      0.96      1112\n",
      "           F       0.91      0.72      0.80       145\n",
      "           U       1.00      0.99      0.99      1249\n",
      "\n",
      "    accuracy                           0.99     17511\n",
      "   macro avg       0.95      0.90      0.93     17511\n",
      "weighted avg       0.99      0.99      0.99     17511\n",
      "\n"
     ]
    }
   ],
   "source": [
    "print(\"Predict valid outcome\")\n",
    "print(classification_report(out_valid, model_pred_valid, target_names=[MIT_Outcome[i] for i in MIT_Outcome]))"
   ]
  },
  {
   "cell_type": "code",
   "execution_count": 58,
   "metadata": {},
   "outputs": [
    {
     "name": "stdout",
     "output_type": "stream",
     "text": [
      "True positive:  1587\n",
      "False positive:  7\n",
      "False negative:  21\n",
      "True negative:  20277\n"
     ]
    },
    {
     "data": {
      "text/plain": [
       "<Figure size 576x432 with 0 Axes>"
      ]
     },
     "metadata": {},
     "output_type": "display_data"
    },
    {
     "data": {
      "image/png": "[encoded data removed]",
      "text/plain": [
       "<Figure size 432x288 with 2 Axes>"
      ]
     },
     "metadata": {
      "needs_background": "light"
     },
     "output_type": "display_data"
    }
   ],
   "source": [
    "cmm = confusion_matrix(y_true= out_test, y_pred=model_pred_test, labels=list(MIT_Outcome.keys()), normalize = 'true')\n",
    "cm = confusion_matrix(y_true= out_test, y_pred=model_pred_test, labels=list(MIT_Outcome.keys()))\n",
    "plt.figure(figsize=(8,6))\n",
    "disp = ConfusionMatrixDisplay(confusion_matrix=cmm,display_labels=[MIT_Outcome[i] for i in MIT_Outcome],)\n",
    "disp.plot(cmap = \"Greys\")\n",
    "\n",
    "TruePositive = np.diag(cm)\n",
    "FalsePositive = []\n",
    "for i in range(len(MIT_Outcome)):\n",
    "    FalsePositive.append(sum(cm[:,i]) - cm[i,i])\n",
    "FalseNegative = []\n",
    "for i in range(len(MIT_Outcome)):\n",
    "    FalseNegative.append(sum(cm[i,:]) - cm[i,i])\n",
    "TrueNegative = []\n",
    "for i in range(len(MIT_Outcome)):\n",
    "    temp = np.delete(cm, i, 0)   # delete ith row\n",
    "    temp = np.delete(temp, i, 1)  # delete ith column\n",
    "    TrueNegative.append(sum(sum(temp)))\n",
    "#l = len(y)\n",
    "#for i in range(len(MIT_Outcome)):\n",
    "#    print(TruePositive[i] + FalsePositive[i] + FalseNegative[i] + TrueNegative[i] == l)\n",
    "print(\"True positive: \", TruePositive[i])\n",
    "print(\"False positive: \", FalsePositive[i])\n",
    "print(\"False negative: \", FalseNegative[i])\n",
    "print(\"True negative: \", TrueNegative[i])\n",
    "\n",
    "plt.show()"
   ]
  },
  {
   "cell_type": "code",
   "execution_count": 59,
   "metadata": {},
   "outputs": [
    {
     "data": {
      "image/png": "[encoded data removed]",
      "text/plain": [
       "<Figure size 432x288 with 1 Axes>"
      ]
     },
     "metadata": {
      "needs_background": "light"
     },
     "output_type": "display_data"
    }
   ],
   "source": [
    "plt.plot(history_khanh.epoch, history_khanh.history['loss'],\n",
    "           color='r', label='Train loss')\n",
    "plt.plot(history_khanh.epoch, history_khanh.history['val_loss'],\n",
    "           color='b', label='Val loss' , linestyle=\"--\")\n",
    "plt.xlabel('Epoch')\n",
    "plt.ylabel('Loss')\n",
    "plt.legend()\n",
    "plt.show()"
   ]
  },
  {
   "cell_type": "code",
   "execution_count": 60,
   "metadata": {},
   "outputs": [
    {
     "name": "stdout",
     "output_type": "stream",
     "text": [
      "Predict = Counter({0: 18199, 4: 1594, 2: 1456, 1: 522, 3: 121})\n",
      "True = Counter({0: 18118, 4: 1608, 2: 1448, 1: 556, 3: 162})\n"
     ]
    }
   ],
   "source": [
    "import collections\n",
    "count_predict = collections.Counter(model_pred_test)\n",
    "model_y_test = np.argmax(y_test, axis = 1)\n",
    "count_true = collections.Counter(model_y_test)\n",
    "print(f\"Predict = {count_predict}\")\n",
    "print(f\"True = {count_true}\")"
   ]
  }
 ],
 "metadata": {
  "kernelspec": {
   "display_name": "Python 3",
   "language": "python",
   "name": "python3"
  },
  "language_info": {
   "codemirror_mode": {
    "name": "ipython",
    "version": 3
   },
   "file_extension": ".py",
   "mimetype": "text/x-python",
   "name": "python",
   "nbconvert_exporter": "python",
   "pygments_lexer": "ipython3",
   "version": "3.10.5"
  },
  "orig_nbformat": 4,
  "vscode": {
   "interpreter": {
    "hash": "d3e10ef16274dd72e574b8fa73b58450b957d8421a2901baded3cca26fcf5dda"
   }
  }
 },
 "nbformat": 4,
 "nbformat_minor": 2
}
